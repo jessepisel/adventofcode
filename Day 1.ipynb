{
 "cells": [
  {
   "cell_type": "markdown",
   "metadata": {},
   "source": [
    "# Day 1\n",
    "### Saving Santa with R stats\n",
    "##### Fuel Counter-upper"
   ]
  },
  {
   "cell_type": "code",
   "execution_count": 1,
   "metadata": {},
   "outputs": [
    {
     "data": {
      "text/html": [
       "TRUE"
      ],
      "text/latex": [
       "TRUE"
      ],
      "text/markdown": [
       "TRUE"
      ],
      "text/plain": [
       "[1] TRUE"
      ]
     },
     "metadata": {},
     "output_type": "display_data"
    },
    {
     "data": {
      "text/html": [
       "TRUE"
      ],
      "text/latex": [
       "TRUE"
      ],
      "text/markdown": [
       "TRUE"
      ],
      "text/plain": [
       "[1] TRUE"
      ]
     },
     "metadata": {},
     "output_type": "display_data"
    },
    {
     "data": {
      "text/html": [
       "TRUE"
      ],
      "text/latex": [
       "TRUE"
      ],
      "text/markdown": [
       "TRUE"
      ],
      "text/plain": [
       "[1] TRUE"
      ]
     },
     "metadata": {},
     "output_type": "display_data"
    },
    {
     "data": {
      "text/html": [
       "TRUE"
      ],
      "text/latex": [
       "TRUE"
      ],
      "text/markdown": [
       "TRUE"
      ],
      "text/plain": [
       "[1] TRUE"
      ]
     },
     "metadata": {},
     "output_type": "display_data"
    }
   ],
   "source": [
    "#create a function to calculate the fuel requirements\n",
    "fuel_requirements <- function(mass_list){\n",
    "    result <- floor(mass_list/3)-2\n",
    "    return(result)\n",
    "}\n",
    "\n",
    "#test to verify that it is calculating things correctly\n",
    "fuel_requirements(12) == 2\n",
    "\n",
    "fuel_requirements(14) == 2\n",
    "\n",
    "fuel_requirements(1969) == 654\n",
    "\n",
    "fuel_requirements(100756) == 33583"
   ]
  },
  {
   "cell_type": "code",
   "execution_count": 2,
   "metadata": {},
   "outputs": [
    {
     "data": {
      "text/html": [
       "<ol class=list-inline>\n",
       "\t<li>2</li>\n",
       "\t<li>2</li>\n",
       "\t<li>3</li>\n",
       "</ol>\n"
      ],
      "text/latex": [
       "\\begin{enumerate*}\n",
       "\\item 2\n",
       "\\item 2\n",
       "\\item 3\n",
       "\\end{enumerate*}\n"
      ],
      "text/markdown": [
       "1. 2\n",
       "2. 2\n",
       "3. 3\n",
       "\n",
       "\n"
      ],
      "text/plain": [
       "[1] 2 2 3"
      ]
     },
     "metadata": {},
     "output_type": "display_data"
    }
   ],
   "source": [
    "#one more sanity check\n",
    "test <- c(12,14,16)\n",
    "fuel_requirements(test)"
   ]
  },
  {
   "cell_type": "code",
   "execution_count": 6,
   "metadata": {},
   "outputs": [],
   "source": [
    "#input data\n",
    "input_list <- c(81157,\n",
    "80969,\n",
    "113477,\n",
    "81295,\n",
    "70537,\n",
    "90130,\n",
    "123804,\n",
    "94276,\n",
    "139327,\n",
    "123719,\n",
    "107814,\n",
    "122142,\n",
    "61204,\n",
    "135309,\n",
    "62810,\n",
    "85750,\n",
    "132568,\n",
    "76450,\n",
    "122948,\n",
    "124649,\n",
    "102644,\n",
    "80055,\n",
    "60517,\n",
    "125884,\n",
    "125708,\n",
    "99051,\n",
    "137158,\n",
    "100450,\n",
    "55239,\n",
    "66758,\n",
    "123848,\n",
    "88711,\n",
    "113047,\n",
    "125528,\n",
    "59285,\n",
    "103978,\n",
    "93047,\n",
    "98038,\n",
    "143019,\n",
    "92031,\n",
    "54353,\n",
    "115597,\n",
    "105629,\n",
    "80411,\n",
    "134966,\n",
    "135473,\n",
    "77357,\n",
    "65776,\n",
    "71096,\n",
    "66926,\n",
    "97853,\n",
    "80349,\n",
    "141914,\n",
    "127221,\n",
    "102492,\n",
    "143587,\n",
    "111493,\n",
    "84711,\n",
    "59826,\n",
    "135652,\n",
    "103334,\n",
    "138211,\n",
    "65088,\n",
    "82244,\n",
    "95011,\n",
    "78760,\n",
    "56691,\n",
    "62070,\n",
    "146134,\n",
    "81650,\n",
    "76904,\n",
    "98838,\n",
    "89629,\n",
    "59950,\n",
    "50390,\n",
    "78616,\n",
    "99731,\n",
    "53831,\n",
    "81273,\n",
    "103980,\n",
    "58485,\n",
    "137684,\n",
    "142457,\n",
    "111050,\n",
    "141916,\n",
    "55567,\n",
    "141945,\n",
    "100794,\n",
    "136425,\n",
    "77911,\n",
    "137114,\n",
    "77450,\n",
    "132048,\n",
    "143066,\n",
    "136805,\n",
    "114135,\n",
    "61565,\n",
    "67286,\n",
    "85512,\n",
    "137493)"
   ]
  },
  {
   "cell_type": "code",
   "execution_count": 7,
   "metadata": {},
   "outputs": [
    {
     "data": {
      "text/html": [
       "3305115"
      ],
      "text/latex": [
       "3305115"
      ],
      "text/markdown": [
       "3305115"
      ],
      "text/plain": [
       "[1] 3305115"
      ]
     },
     "metadata": {},
     "output_type": "display_data"
    }
   ],
   "source": [
    "#answer for part 1\n",
    "sum(fuel_requirements(input_list))"
   ]
  },
  {
   "cell_type": "code",
   "execution_count": 8,
   "metadata": {},
   "outputs": [],
   "source": [
    "#create a function to calculate the additional fuel with recursion\n",
    "additional_fuel <- function(modules){\n",
    "    addl_fuel <- 0\n",
    "    while (modules >= 0){\n",
    "        modules <- fuel_requirements(modules)\n",
    "        if (modules > 0){\n",
    "            addl_fuel <- addl_fuel+modules\n",
    "            }\n",
    "    }\n",
    "    return(addl_fuel)\n",
    "}"
   ]
  },
  {
   "cell_type": "code",
   "execution_count": 9,
   "metadata": {},
   "outputs": [],
   "source": [
    "#Calculate the total fuel with both functions\n",
    "total_fuel <- 0\n",
    "for (item in input_list){\n",
    "    total_fuel <- additional_fuel(item)+total_fuel\n",
    "    }"
   ]
  },
  {
   "cell_type": "code",
   "execution_count": 10,
   "metadata": {},
   "outputs": [
    {
     "data": {
      "text/html": [
       "4954799"
      ],
      "text/latex": [
       "4954799"
      ],
      "text/markdown": [
       "4954799"
      ],
      "text/plain": [
       "[1] 4954799"
      ]
     },
     "metadata": {},
     "output_type": "display_data"
    }
   ],
   "source": [
    "total_fuel"
   ]
  },
  {
   "cell_type": "code",
   "execution_count": null,
   "metadata": {},
   "outputs": [],
   "source": []
  }
 ],
 "metadata": {
  "kernelspec": {
   "display_name": "R",
   "language": "R",
   "name": "ir"
  },
  "language_info": {
   "codemirror_mode": "r",
   "file_extension": ".r",
   "mimetype": "text/x-r-source",
   "name": "R",
   "pygments_lexer": "r",
   "version": "3.6.1"
  }
 },
 "nbformat": 4,
 "nbformat_minor": 2
}
